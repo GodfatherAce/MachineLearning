{
 "cells": [
  {
   "cell_type": "markdown",
   "metadata": {},
   "source": [
    "# Clustering NBA Players: A Machine Learning Tutorial on using KMeans Clustering\n",
    "\n",
    "In this blog post, I am sharing my experience in understanding and employing K-Means clustering by clustering NBA Players. K-Means is a popular centroid-based clustering algorithm that we will use. The K in K-Means refers to the number of clusters we want to segment our data into. We first load the dataset of player performance from the 2013-2014 season which has columns such as 'name of the player', 'their position', 'number of games played' etc. In particular we are interested in clustering point guards based on their match statistics. \n",
    "\n",
    "\n",
    "Point guards play one of the most crucial roles on a team because their primary responsibility is to create scoring opportunities for the team. We visualize the types of point guards as well as group similar point guards together using K-Means clustering. Using 2 features allows us to easily visualize the players and will also make it easier to grasp how clustering works. For point guards, it's widely accepted that the Assist to Turnover Ratio is a good indicator for performance in games as it quantifies the number of scoring opportunities that player created. Let's also use Points Per Game, since effective Point Guards not only set up scoring opportunities but also take a lot of the shots themselves. \n",
    "\n",
    "[Check out Database Basketball for an explanation of all the columns](https://www.rotowire.com/)\n",
    "\n",
    "[View the dataquest project here](https://www.dataquest.io/m/40/k-means-clustering)\n",
    "\n",
    "![](https://i.ytimg.com/vi/ey0sj5qkPJQ/maxresdefault.jpg)\n",
    "\n",
    "My project has following parts\n",
    "* [Understanding the data](#load-and-understand-data)\n",
    "* [Feature engineering](#feature-engineering)\n",
    "    * [Missing value imputation](#fix-missing-data)\n",
    "    * [Data Visualization](#data-visualization)\n",
    "* [Prediction!](#prediction)\n",
    "* [Kaggle Submission](#kaggle-submission)"
   ]
  },
  {
   "cell_type": "markdown",
   "metadata": {},
   "source": [
    "## Understanding the data\n",
    "\n",
    "Some of the columns in the dataset are:\n",
    "\n",
    "- player -- name of the player\n",
    "- pos -- the position of the player\n",
    "- g -- number of games the player was in\n",
    "- pts -- total points the player scored\n",
    "- fg. -- field goal percentage\n",
    "- ft. -- free throw percenta"
   ]
  },
  {
   "cell_type": "code",
   "execution_count": 1,
   "metadata": {
    "collapsed": false,
    "scrolled": true
   },
   "outputs": [
    {
     "data": {
      "text/html": [
       "<div>\n",
       "<table border=\"1\" class=\"dataframe\">\n",
       "  <thead>\n",
       "    <tr style=\"text-align: right;\">\n",
       "      <th></th>\n",
       "      <th>player</th>\n",
       "      <th>pos</th>\n",
       "      <th>age</th>\n",
       "      <th>bref_team_id</th>\n",
       "      <th>g</th>\n",
       "      <th>gs</th>\n",
       "      <th>mp</th>\n",
       "      <th>fg</th>\n",
       "      <th>fga</th>\n",
       "      <th>fg.</th>\n",
       "      <th>...</th>\n",
       "      <th>drb</th>\n",
       "      <th>trb</th>\n",
       "      <th>ast</th>\n",
       "      <th>stl</th>\n",
       "      <th>blk</th>\n",
       "      <th>tov</th>\n",
       "      <th>pf</th>\n",
       "      <th>pts</th>\n",
       "      <th>season</th>\n",
       "      <th>season_end</th>\n",
       "    </tr>\n",
       "  </thead>\n",
       "  <tbody>\n",
       "    <tr>\n",
       "      <th>0</th>\n",
       "      <td>Quincy Acy</td>\n",
       "      <td>SF</td>\n",
       "      <td>23</td>\n",
       "      <td>TOT</td>\n",
       "      <td>63</td>\n",
       "      <td>0</td>\n",
       "      <td>847</td>\n",
       "      <td>66</td>\n",
       "      <td>141</td>\n",
       "      <td>0.468</td>\n",
       "      <td>...</td>\n",
       "      <td>144</td>\n",
       "      <td>216</td>\n",
       "      <td>28</td>\n",
       "      <td>23</td>\n",
       "      <td>26</td>\n",
       "      <td>30</td>\n",
       "      <td>122</td>\n",
       "      <td>171</td>\n",
       "      <td>2013-2014</td>\n",
       "      <td>2013</td>\n",
       "    </tr>\n",
       "    <tr>\n",
       "      <th>1</th>\n",
       "      <td>Steven Adams</td>\n",
       "      <td>C</td>\n",
       "      <td>20</td>\n",
       "      <td>OKC</td>\n",
       "      <td>81</td>\n",
       "      <td>20</td>\n",
       "      <td>1197</td>\n",
       "      <td>93</td>\n",
       "      <td>185</td>\n",
       "      <td>0.503</td>\n",
       "      <td>...</td>\n",
       "      <td>190</td>\n",
       "      <td>332</td>\n",
       "      <td>43</td>\n",
       "      <td>40</td>\n",
       "      <td>57</td>\n",
       "      <td>71</td>\n",
       "      <td>203</td>\n",
       "      <td>265</td>\n",
       "      <td>2013-2014</td>\n",
       "      <td>2013</td>\n",
       "    </tr>\n",
       "    <tr>\n",
       "      <th>2</th>\n",
       "      <td>Jeff Adrien</td>\n",
       "      <td>PF</td>\n",
       "      <td>27</td>\n",
       "      <td>TOT</td>\n",
       "      <td>53</td>\n",
       "      <td>12</td>\n",
       "      <td>961</td>\n",
       "      <td>143</td>\n",
       "      <td>275</td>\n",
       "      <td>0.520</td>\n",
       "      <td>...</td>\n",
       "      <td>204</td>\n",
       "      <td>306</td>\n",
       "      <td>38</td>\n",
       "      <td>24</td>\n",
       "      <td>36</td>\n",
       "      <td>39</td>\n",
       "      <td>108</td>\n",
       "      <td>362</td>\n",
       "      <td>2013-2014</td>\n",
       "      <td>2013</td>\n",
       "    </tr>\n",
       "  </tbody>\n",
       "</table>\n",
       "<p>3 rows × 31 columns</p>\n",
       "</div>"
      ],
      "text/plain": [
       "         player pos  age bref_team_id   g  gs    mp   fg  fga    fg.  \\\n",
       "0    Quincy Acy  SF   23          TOT  63   0   847   66  141  0.468   \n",
       "1  Steven Adams   C   20          OKC  81  20  1197   93  185  0.503   \n",
       "2   Jeff Adrien  PF   27          TOT  53  12   961  143  275  0.520   \n",
       "\n",
       "      ...      drb  trb  ast  stl  blk  tov   pf  pts     season  season_end  \n",
       "0     ...      144  216   28   23   26   30  122  171  2013-2014        2013  \n",
       "1     ...      190  332   43   40   57   71  203  265  2013-2014        2013  \n",
       "2     ...      204  306   38   24   36   39  108  362  2013-2014        2013  \n",
       "\n",
       "[3 rows x 31 columns]"
      ]
     },
     "execution_count": 1,
     "metadata": {},
     "output_type": "execute_result"
    }
   ],
   "source": [
    "import pandas as pd\n",
    "import numpy as np\n",
    "\n",
    "nba = pd.read_csv(\"nba_2013.csv\")\n",
    "nba.head(3)"
   ]
  },
  {
   "cell_type": "markdown",
   "metadata": {},
   "source": [
    "### Pointguards \n",
    "We do the following to extract information on the pointguards:\n",
    "\n",
    "- Create a new Dataframe which contains just the point guards (specified as PG in the pos column) from the data set.\n",
    "- Assign the filtered data frame to point_guards."
   ]
  },
  {
   "cell_type": "code",
   "execution_count": 7,
   "metadata": {
    "collapsed": false
   },
   "outputs": [
    {
     "data": {
      "text/html": [
       "<div>\n",
       "<table border=\"1\" class=\"dataframe\">\n",
       "  <thead>\n",
       "    <tr style=\"text-align: right;\">\n",
       "      <th></th>\n",
       "      <th>player</th>\n",
       "      <th>pos</th>\n",
       "      <th>age</th>\n",
       "      <th>bref_team_id</th>\n",
       "      <th>g</th>\n",
       "      <th>gs</th>\n",
       "      <th>mp</th>\n",
       "      <th>fg</th>\n",
       "      <th>fga</th>\n",
       "      <th>fg.</th>\n",
       "      <th>...</th>\n",
       "      <th>drb</th>\n",
       "      <th>trb</th>\n",
       "      <th>ast</th>\n",
       "      <th>stl</th>\n",
       "      <th>blk</th>\n",
       "      <th>tov</th>\n",
       "      <th>pf</th>\n",
       "      <th>pts</th>\n",
       "      <th>season</th>\n",
       "      <th>season_end</th>\n",
       "    </tr>\n",
       "  </thead>\n",
       "  <tbody>\n",
       "    <tr>\n",
       "      <th>24</th>\n",
       "      <td>D.J. Augustin</td>\n",
       "      <td>PG</td>\n",
       "      <td>26</td>\n",
       "      <td>TOT</td>\n",
       "      <td>71</td>\n",
       "      <td>9</td>\n",
       "      <td>1939</td>\n",
       "      <td>298</td>\n",
       "      <td>718</td>\n",
       "      <td>0.415</td>\n",
       "      <td>...</td>\n",
       "      <td>115</td>\n",
       "      <td>130</td>\n",
       "      <td>313</td>\n",
       "      <td>53</td>\n",
       "      <td>3</td>\n",
       "      <td>125</td>\n",
       "      <td>147</td>\n",
       "      <td>930</td>\n",
       "      <td>2013-2014</td>\n",
       "      <td>2013</td>\n",
       "    </tr>\n",
       "    <tr>\n",
       "      <th>29</th>\n",
       "      <td>Leandro Barbosa</td>\n",
       "      <td>PG</td>\n",
       "      <td>31</td>\n",
       "      <td>PHO</td>\n",
       "      <td>20</td>\n",
       "      <td>0</td>\n",
       "      <td>368</td>\n",
       "      <td>56</td>\n",
       "      <td>131</td>\n",
       "      <td>0.427</td>\n",
       "      <td>...</td>\n",
       "      <td>32</td>\n",
       "      <td>37</td>\n",
       "      <td>32</td>\n",
       "      <td>7</td>\n",
       "      <td>4</td>\n",
       "      <td>19</td>\n",
       "      <td>30</td>\n",
       "      <td>150</td>\n",
       "      <td>2013-2014</td>\n",
       "      <td>2013</td>\n",
       "    </tr>\n",
       "    <tr>\n",
       "      <th>30</th>\n",
       "      <td>Jose Barea</td>\n",
       "      <td>PG</td>\n",
       "      <td>29</td>\n",
       "      <td>MIN</td>\n",
       "      <td>79</td>\n",
       "      <td>1</td>\n",
       "      <td>1471</td>\n",
       "      <td>254</td>\n",
       "      <td>656</td>\n",
       "      <td>0.387</td>\n",
       "      <td>...</td>\n",
       "      <td>138</td>\n",
       "      <td>154</td>\n",
       "      <td>303</td>\n",
       "      <td>26</td>\n",
       "      <td>0</td>\n",
       "      <td>125</td>\n",
       "      <td>129</td>\n",
       "      <td>660</td>\n",
       "      <td>2013-2014</td>\n",
       "      <td>2013</td>\n",
       "    </tr>\n",
       "  </tbody>\n",
       "</table>\n",
       "<p>3 rows × 31 columns</p>\n",
       "</div>"
      ],
      "text/plain": [
       "             player pos  age bref_team_id   g  gs    mp   fg  fga    fg.  \\\n",
       "24    D.J. Augustin  PG   26          TOT  71   9  1939  298  718  0.415   \n",
       "29  Leandro Barbosa  PG   31          PHO  20   0   368   56  131  0.427   \n",
       "30       Jose Barea  PG   29          MIN  79   1  1471  254  656  0.387   \n",
       "\n",
       "       ...      drb  trb  ast  stl  blk  tov   pf  pts     season  season_end  \n",
       "24     ...      115  130  313   53    3  125  147  930  2013-2014        2013  \n",
       "29     ...       32   37   32    7    4   19   30  150  2013-2014        2013  \n",
       "30     ...      138  154  303   26    0  125  129  660  2013-2014        2013  \n",
       "\n",
       "[3 rows x 31 columns]"
      ]
     },
     "execution_count": 7,
     "metadata": {},
     "output_type": "execute_result"
    }
   ],
   "source": [
    "# Extracting pointguards from dataframe\n",
    "point_guards = nba[nba['pos']=='PG']\n",
    "point_guards.head(3)"
   ]
  },
  {
   "cell_type": "markdown",
   "metadata": {},
   "source": [
    "## Feature Engineering\n",
    "\n",
    "While our dataset doesn't come with Points Per Game, **ppg** values, we can easily calculate those using each player's total points (pts) and the number of games (g) they played. Similarly we can create a column, **atr**, for the Assist Turnover Ratio, which is calculated by dividing total assists (ast) by total turnovers (tov).\n",
    "\n",
    "1. Create a feature called ppg (points per game)\n",
    "2. Drop any player with zero value of turnover and create a feature called atr (Assist Turnover Ratio) "
   ]
  },
  {
   "cell_type": "code",
   "execution_count": 60,
   "metadata": {
    "collapsed": false
   },
   "outputs": [
    {
     "data": {
      "text/html": [
       "<div>\n",
       "<table border=\"1\" class=\"dataframe\">\n",
       "  <thead>\n",
       "    <tr style=\"text-align: right;\">\n",
       "      <th></th>\n",
       "      <th>pts</th>\n",
       "      <th>g</th>\n",
       "      <th>ppg</th>\n",
       "      <th>ast</th>\n",
       "      <th>tov</th>\n",
       "      <th>atr</th>\n",
       "    </tr>\n",
       "  </thead>\n",
       "  <tbody>\n",
       "    <tr>\n",
       "      <th>24</th>\n",
       "      <td>930</td>\n",
       "      <td>71</td>\n",
       "      <td>13.098592</td>\n",
       "      <td>313</td>\n",
       "      <td>125</td>\n",
       "      <td>2.504000</td>\n",
       "    </tr>\n",
       "    <tr>\n",
       "      <th>29</th>\n",
       "      <td>150</td>\n",
       "      <td>20</td>\n",
       "      <td>7.500000</td>\n",
       "      <td>32</td>\n",
       "      <td>19</td>\n",
       "      <td>1.684211</td>\n",
       "    </tr>\n",
       "  </tbody>\n",
       "</table>\n",
       "</div>"
      ],
      "text/plain": [
       "    pts   g        ppg  ast  tov       atr\n",
       "24  930  71  13.098592  313  125  2.504000\n",
       "29  150  20   7.500000   32   19  1.684211"
      ]
     },
     "execution_count": 60,
     "metadata": {},
     "output_type": "execute_result"
    }
   ],
   "source": [
    "# Create a feature called ppg, points per game\n",
    "point_guards['ppg'] = point_guards['pts'] / point_guards['g']\n",
    "\n",
    "# Drop any player with zero value of turnover \n",
    "point_guards = point_guards[point_guards['tov'] != 0]\n",
    "\n",
    "# Create a feature called atr (Assist Turnover Ratio)\n",
    "point_guards['atr'] = point_guards['ast']/point_guards['tov']\n",
    "\n",
    "# remove the remaining columns\n",
    "point_guards = point_guards[['pts', 'g', 'ppg', 'ast', 'tov', 'atr']]\n",
    "\n",
    "# Sanity check, make sure ppg = pts/g and atr = ast/tov\n",
    "point_guards.head(2)"
   ]
  },
  {
   "cell_type": "code",
   "execution_count": 61,
   "metadata": {
    "collapsed": false
   },
   "outputs": [
    {
     "data": {
      "text/html": [
       "\n",
       "<style>\n",
       ".output_png {\n",
       "    display: table-cell;\n",
       "    text-align: center;\n",
       "    vertical-align: middle;\n",
       "}\n",
       "</style>\n"
      ],
      "text/plain": [
       "<IPython.core.display.HTML object>"
      ]
     },
     "execution_count": 61,
     "metadata": {},
     "output_type": "execute_result"
    }
   ],
   "source": [
    "# Display figures in ceter\n",
    "from IPython.core.display import HTML\n",
    "HTML(\"\"\"\n",
    "<style>\n",
    ".output_png {\n",
    "    display: table-cell;\n",
    "    text-align: center;\n",
    "    vertical-align: middle;\n",
    "}\n",
    "</style>\n",
    "\"\"\")"
   ]
  },
  {
   "cell_type": "code",
   "execution_count": 62,
   "metadata": {
    "collapsed": false
   },
   "outputs": [
    {
     "data": {
      "image/png": "[encoded data removed]",
      "text/plain": [
       "<matplotlib.figure.Figure at 0x118da5f28>"
      ]
     },
     "metadata": {},
     "output_type": "display_data"
    }
   ],
   "source": [
    "import matplotlib.pyplot as plt\n",
    "%matplotlib inline \n",
    "import re\n",
    "plt.style.use('ggplot')\n",
    "plt.rcParams.update({'font.size': 16})\n",
    "\n",
    "# Visualize the cluster\n",
    "fig = plt.figure(num=None, figsize=(6, 6), edgecolor='k')\n",
    "\n",
    "ax = fig.add_subplot(1, 1, 1, facecolor=\"1.0\")\n",
    "ax.scatter(point_guards['ppg'], point_guards['atr'], alpha=0.5, c='y', edgecolors='g', s=150)\n",
    "plt.title(\"Point Guards\")\n",
    "plt.xlabel('Points Per Game')\n",
    "plt.ylabel('Assist Turnover Ratio')\n",
    "plt.show()"
   ]
  },
  {
   "cell_type": "markdown",
   "metadata": {},
   "source": [
    "There already seems to be some clustering in the data, with three clusters fairly prominant. We can see how 4 or 5 clusters would be a good starting point for these features."
   ]
  },
  {
   "cell_type": "markdown",
   "metadata": {},
   "source": [
    "## K-Means Clustering Algorithm\n",
    "\n",
    "K-Means is a popular centroid-based clustering algorithm that we will use. The K in K-Means refers to the number of clusters we want to segment our data into. The key part with K-Means (and most unsupervised machine learning techniques) is that we have to specify what k is. There are advantages and disadvantages to this, but one advantage is that we can pick the k that makes the most sense for our use case. We'll set k to 5 based on the scatter plot above.\n",
    "\n",
    "\n",
    "Setup K-Means is an iterative algorithm that switches between recalculating the centroid of each cluster and the players that belong to that cluster. The algorithm to clustering goes as follows:\n",
    "\n",
    "**Step 1: Select K=5 players at random and assign their coordinates as the initial centroids of the just created clusters. **\n",
    "\n",
    "**Step 2: For each player, calculate the Euclidean distance between that player's coordinates, or values for x=atr & y=ppg, and each of the centroids' coordinates.**\n",
    "\n",
    "**Step 3: Assign the player to the cluster whose centroid is the closest to, or has the lowest Euclidean distance to, the player's values.**\n",
    "\n",
    "**Step 4: For each cluster, compute the new centroid by calculating the arithmetic mean of all of the points (players) in that cluster. Calculate the arithmetic mean by taking the average of all of the X-values (atr) and the average of all of the Y-values (ppg) of the points in that cluster.**\n",
    "\n",
    "**Step 5: Iterate Repeat steps 2 through 4 until the clusters are no longer moving and have converged.**\n"
   ]
  },
  {
   "cell_type": "markdown",
   "metadata": {},
   "source": [
    "### Step 1:  Initial Centroids"
   ]
  },
  {
   "cell_type": "code",
   "execution_count": 65,
   "metadata": {
    "collapsed": false
   },
   "outputs": [
    {
     "data": {
      "image/png": "[encoded data removed]",
      "text/plain": [
       "<matplotlib.figure.Figure at 0x118de3d30>"
      ]
     },
     "metadata": {},
     "output_type": "display_data"
    }
   ],
   "source": [
    "# Step 1: Create a random cluster and Visualize it\n",
    "\n",
    "num_clusters = 5\n",
    "# Use numpy's random function to generate a list, length: num_clusters, of indices\n",
    "random_initial_points = np.random.choice(point_guards.index, size=num_clusters)\n",
    "# Use the random indices to create the centroids\n",
    "centroids = point_guards.loc[random_initial_points]\n",
    "\n",
    "# Visualize the cluster\n",
    "fig = plt.figure(num=None, figsize=(6, 6), edgecolor='k')\n",
    "\n",
    "ax = fig.add_subplot(1, 1, 1, facecolor=\"1.0\")\n",
    "\n",
    "ax.scatter(point_guards['ppg'], point_guards['atr'], alpha=0.5, c='y', edgecolors='g', s=150)\n",
    "ax.scatter(centroids['ppg'], centroids['atr'], c='red', s=50)\n",
    "\n",
    "plt.title(\"Initial Centriods\")\n",
    "plt.xlabel('Points Per Game')\n",
    "plt.ylabel('Assist Turnover Ratio')\n",
    "plt.show()"
   ]
  },
  {
   "cell_type": "markdown",
   "metadata": {},
   "source": [
    "\n",
    "As we can see the clusters are just subsets of players positions on the scatter plot and we now need to iteratively evolve the location of these clusters. One way to keep track of the clusters as the move as per iterations in by storing them in python dictionary like objects as follows:\n",
    "\n",
    "- key: cluster_id of that centroid's cluster (0 through 4)\n",
    "- value: centroid's coordinates expressed as a list ( ppg value first, atr value second ) \n",
    "\n",
    "We'll write a function, __centroids_to_dict__, that takes in the centroids data frame object, creates a cluster_id and converts the ppg and atr values for that centroid into a list of coordinates, and adds both the cluster_id and coordinates_list into the dictionary that's returned"
   ]
  },
  {
   "cell_type": "code",
   "execution_count": 68,
   "metadata": {
    "collapsed": false
   },
   "outputs": [
    {
     "name": "stdout",
     "output_type": "stream",
     "text": [
      "{0: [7.4520547945205475, 3.0449438202247192], 1: [3.8695652173913042, 1.1612903225806452], 2: [7.5, 1.6842105263157894], 3: [14.85, 0.88541666666666663], 4: [7.9629629629629628, 3.1800000000000002]}\n"
     ]
    }
   ],
   "source": [
    "def centroids_to_dict(centroids):\n",
    "    dictionary = dict()\n",
    "    # iterating counter we use to generate a cluster_id\n",
    "    counter = 0\n",
    "\n",
    "    # iterate a pandas data frame row-wise using .iterrows()\n",
    "    for index, row in centroids.iterrows():\n",
    "        coordinates = [row['ppg'], row['atr']]\n",
    "        dictionary[counter] = coordinates\n",
    "        counter += 1\n",
    "\n",
    "    return dictionary\n",
    "\n",
    "centroids_dict = centroids_to_dict(centroids)\n",
    "print(centroids_dict)"
   ]
  },
  {
   "cell_type": "markdown",
   "metadata": {},
   "source": [
    "## Step 2: Euclidean Distance\n",
    "\n",
    "Before we can assign players to clusters, we need a way to compare the 'ppg' and 'atr' values of each player with each cluster's centroids. Euclidean distance is the most common technique used in data science for measuring distance between vectors and works extremely well in 2 and 3 dimensions. In 2 dimensions Euclidean distance is essentially the Pythagorean theorem.\n",
    "\n",
    "Let's create the function __calculate_distance__, which takes in 2 lists (the player's values for ppg and atr and the centroid's values for ppg and atr).\n",
    "\n"
   ]
  },
  {
   "cell_type": "code",
   "execution_count": 69,
   "metadata": {
    "collapsed": false
   },
   "outputs": [
    {
     "name": "stdout",
     "output_type": "stream",
     "text": [
      "5.0\n"
     ]
    }
   ],
   "source": [
    "import math\n",
    "\n",
    "def calculate_distance(centroid, player_values):\n",
    "    root_distance = 0\n",
    "    \n",
    "    for x in range(0, len(centroid)):\n",
    "        difference = centroid[x] - player_values[x]\n",
    "        squared_difference = difference**2\n",
    "        root_distance += squared_difference\n",
    "\n",
    "    euclid_distance = math.sqrt(root_distance)\n",
    "    return euclid_distance\n",
    "\n",
    "# test\n",
    "print(calculate_distance([0, 0], [3,4]))"
   ]
  },
  {
   "cell_type": "code",
   "execution_count": null,
   "metadata": {
    "collapsed": true
   },
   "outputs": [],
   "source": []
  }
 ],
 "metadata": {
  "kernelspec": {
   "display_name": "Python 3",
   "language": "python",
   "name": "python3"
  },
  "language_info": {
   "codemirror_mode": {
    "name": "ipython",
    "version": 3
   },
   "file_extension": ".py",
   "mimetype": "text/x-python",
   "name": "python",
   "nbconvert_exporter": "python",
   "pygments_lexer": "ipython3",
   "version": "3.6.0"
  }
 },
 "nbformat": 4,
 "nbformat_minor": 2
}
