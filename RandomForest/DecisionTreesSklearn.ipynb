{
 "cells": [
  {
   "cell_type": "markdown",
   "metadata": {},
   "source": [
    "# Using Decision Trees With Scikit-Learn\n",
    "\n",
    "The decision tree algorithm is a supervised learning algorithm -- we first construct the tree with historical data, and then use it to predict an outcome. One of the major advantages of decision trees is that they can pick up nonlinear interactions between variables in the data that linear regression can't.\n",
    "\n",
    "\n",
    "The data is income data from the 1994 census, and contains information on an individual's marital status, age, type of work, and more. The target column, or what we want to predict, is whether individuals make less than or equal to 50k a year, or more than 50k a year.\n",
    "\n",
    "![](https://1.bp.blogspot.com/_iJyjQ6GZMcE/R8TzdU148XI/AAAAAAAAABY/bkjLU0VOouY/S660/dec1.bmp)\n",
    "\n",
    "\n",
    "Resources:\n",
    "- [Download the data from the University of California, Irvine's website](http://archive.ics.uci.edu/ml/datasets/Adult).\n",
    "\n",
    "- [Check out my project in Jupyter Notebook in which I build Decision Trees from scratch.](https://github.com/SuruchiFialoke/MachineLearning/blob/master/RandomForest/Intro_DecisionTree.ipynb)\n",
    "\n",
    "- [View this project on DataQuest](https://www.dataquest.io/m/92/applying-decision-trees/2/using-decision-trees-with-scikit-learn)\n"
   ]
  },
  {
   "cell_type": "markdown",
   "metadata": {},
   "source": [
    "## Understanding the data\n",
    "\n",
    "Before we get started with decision trees, we need to convert the categorical variables in our data set to numeric variables. This involves assigning a number to each category label, then converting all of the labels in a column to the corresponding numbers.\n",
    "One strategy is to convert the columns to a categorical type. Under this approach, pandas will display the labels as strings, but internally store them as numbers so we can do computations with them.\n",
    "\n",
    "Here are some of the columns from the [dataset](http://archive.ics.uci.edu/ml/datasets/Adult)\n",
    "\n",
    "- age: continuous. \n",
    "- workclass: Private, Self-emp-not-inc, Self-emp-inc, Federal-gov, Local-gov, State-gov, Without-pay, Never-worked. \n",
    "- fnlwgt: continuous. \n",
    "- education: Bachelors, Some-college, 11th, HS-grad, Prof-school, Assoc-acdm, Assoc-voc, 9th, 7th-8th, 12th, Masters, 1st-4th, 10th, Doctorate, 5th-6th, Preschool. \n",
    "- education-num: continuous. \n",
    "- marital-status: Married-civ-spouse, Divorced, Never-married, Separated, Widowed, Married-spouse-absent, Married-AF-spouse. \n",
    "- occupation: Tech-support, Craft-repair, Other-service, Sales, Exec-managerial, Prof-specialty, \n",
    "\n",
    "Steps:\n",
    "\n",
    "**Step 1: Identify the columns that could be useful **   \n",
    "\n",
    "```python \n",
    "columns_of_interest = [\"age\", \"workclass\", \"education_num\", \"marital_status\", \"occupation\", \"relationship\", \"race\", \"sex\", \"hours_per_week\", \"native_country\", 'high_income']\n",
    "```\n",
    "\n",
    "**Step 2: Convert categorical columns to their numeric values**\n",
    "\n",
    "```python \n",
    "categorical_columns = [ \"workclass\", \"education_num\", \"marital_status\", \"occupation\", \"relationship\", \"race\", \"sex\", \"native_country\", \"high_income\"]\n",
    "```\n",
    "\n",
    "** Step 3: Identify features and target **. Store the names of columns to train in list called 'features' and the name of the target column 'high_income' in variable called target.\n"
   ]
  },
  {
   "cell_type": "code",
   "execution_count": 23,
   "metadata": {
    "collapsed": false
   },
   "outputs": [
    {
     "data": {
      "text/html": [
       "<div>\n",
       "<table border=\"1\" class=\"dataframe\">\n",
       "  <thead>\n",
       "    <tr style=\"text-align: right;\">\n",
       "      <th></th>\n",
       "      <th>age</th>\n",
       "      <th>workclass</th>\n",
       "      <th>education_num</th>\n",
       "      <th>marital_status</th>\n",
       "      <th>occupation</th>\n",
       "      <th>relationship</th>\n",
       "      <th>race</th>\n",
       "      <th>sex</th>\n",
       "      <th>hours_per_week</th>\n",
       "      <th>native_country</th>\n",
       "      <th>high_income</th>\n",
       "    </tr>\n",
       "  </thead>\n",
       "  <tbody>\n",
       "    <tr>\n",
       "      <th>0</th>\n",
       "      <td>39</td>\n",
       "      <td>State-gov</td>\n",
       "      <td>13</td>\n",
       "      <td>Never-married</td>\n",
       "      <td>Adm-clerical</td>\n",
       "      <td>Not-in-family</td>\n",
       "      <td>White</td>\n",
       "      <td>Male</td>\n",
       "      <td>40</td>\n",
       "      <td>United-States</td>\n",
       "      <td>&lt;=50K</td>\n",
       "    </tr>\n",
       "    <tr>\n",
       "      <th>1</th>\n",
       "      <td>50</td>\n",
       "      <td>Self-emp-not-inc</td>\n",
       "      <td>13</td>\n",
       "      <td>Married-civ-spouse</td>\n",
       "      <td>Exec-managerial</td>\n",
       "      <td>Husband</td>\n",
       "      <td>White</td>\n",
       "      <td>Male</td>\n",
       "      <td>13</td>\n",
       "      <td>United-States</td>\n",
       "      <td>&lt;=50K</td>\n",
       "    </tr>\n",
       "  </tbody>\n",
       "</table>\n",
       "</div>"
      ],
      "text/plain": [
       "   age          workclass  education_num       marital_status  \\\n",
       "0   39          State-gov             13        Never-married   \n",
       "1   50   Self-emp-not-inc             13   Married-civ-spouse   \n",
       "\n",
       "         occupation    relationship    race    sex  hours_per_week  \\\n",
       "0      Adm-clerical   Not-in-family   White   Male              40   \n",
       "1   Exec-managerial         Husband   White   Male              13   \n",
       "\n",
       "   native_country high_income  \n",
       "0   United-States       <=50K  \n",
       "1   United-States       <=50K  "
      ]
     },
     "execution_count": 23,
     "metadata": {},
     "output_type": "execute_result"
    }
   ],
   "source": [
    "## 1. Step 1: Identify the columns that could be useful ##\n",
    "import pandas as pd\n",
    "\n",
    "# Set index_col to False to avoid pandas thinking that the first column is row indexes (it's age).\n",
    "income = pd.read_csv(\"income.csv\", index_col=False)\n",
    "columns_of_interest = [\"age\", \"workclass\", \"education_num\", \"marital_status\", \"occupation\",\\\n",
    "                       \"relationship\", \"race\", \"sex\", \"hours_per_week\", \"native_country\", 'high_income']\n",
    "\n",
    "income = income.loc[:, columns_of_interest]\n",
    "income.head(2)"
   ]
  },
  {
   "cell_type": "code",
   "execution_count": 24,
   "metadata": {
    "collapsed": false
   },
   "outputs": [
    {
     "data": {
      "text/html": [
       "<div>\n",
       "<table border=\"1\" class=\"dataframe\">\n",
       "  <thead>\n",
       "    <tr style=\"text-align: right;\">\n",
       "      <th></th>\n",
       "      <th>age</th>\n",
       "      <th>workclass</th>\n",
       "      <th>education_num</th>\n",
       "      <th>marital_status</th>\n",
       "      <th>occupation</th>\n",
       "      <th>relationship</th>\n",
       "      <th>race</th>\n",
       "      <th>sex</th>\n",
       "      <th>hours_per_week</th>\n",
       "      <th>native_country</th>\n",
       "      <th>high_income</th>\n",
       "    </tr>\n",
       "  </thead>\n",
       "  <tbody>\n",
       "    <tr>\n",
       "      <th>0</th>\n",
       "      <td>39</td>\n",
       "      <td>7</td>\n",
       "      <td>12</td>\n",
       "      <td>4</td>\n",
       "      <td>1</td>\n",
       "      <td>1</td>\n",
       "      <td>4</td>\n",
       "      <td>1</td>\n",
       "      <td>40</td>\n",
       "      <td>39</td>\n",
       "      <td>0</td>\n",
       "    </tr>\n",
       "    <tr>\n",
       "      <th>1</th>\n",
       "      <td>50</td>\n",
       "      <td>6</td>\n",
       "      <td>12</td>\n",
       "      <td>2</td>\n",
       "      <td>4</td>\n",
       "      <td>0</td>\n",
       "      <td>4</td>\n",
       "      <td>1</td>\n",
       "      <td>13</td>\n",
       "      <td>39</td>\n",
       "      <td>0</td>\n",
       "    </tr>\n",
       "  </tbody>\n",
       "</table>\n",
       "</div>"
      ],
      "text/plain": [
       "   age  workclass  education_num  marital_status  occupation  relationship  \\\n",
       "0   39          7             12               4           1             1   \n",
       "1   50          6             12               2           4             0   \n",
       "\n",
       "   race  sex  hours_per_week  native_country  high_income  \n",
       "0     4    1              40              39            0  \n",
       "1     4    1              13              39            0  "
      ]
     },
     "execution_count": 24,
     "metadata": {},
     "output_type": "execute_result"
    }
   ],
   "source": [
    "## Step 2: Convert categorical columns to their numeric values ##\n",
    "\n",
    "features_categorical = [ \"workclass\", \"education_num\", \"marital_status\", \"occupation\",\\\n",
    "                        \"relationship\", \"race\", \"sex\",\"native_country\", \"high_income\"]\n",
    "for c in features_categorical:\n",
    "    income[c] = pd.Categorical(income[c]).codes\n",
    "\n",
    "income.head(2)"
   ]
  },
  {
   "cell_type": "code",
   "execution_count": 25,
   "metadata": {
    "collapsed": true
   },
   "outputs": [],
   "source": [
    "## Step 3: Identify features and target ##\n",
    "\n",
    "features = [\"age\", \"workclass\", \"education_num\", \"marital_status\", \"occupation\",\\\n",
    "            \"relationship\", \"race\", \"sex\", \"hours_per_week\", \"native_country\"]\n",
    "target = 'high_income'"
   ]
  },
  {
   "cell_type": "markdown",
   "metadata": {},
   "source": [
    "## Decision Trees With Scikit-Learn\n",
    "\n",
    "We can use the scikit-learn package to fit a decision tree. We use the DecisionTreeClassifier class for classification problems, and DecisionTreeRegressor for regression problems. The sklearn.tree package includes both of these classes.\n",
    "\n",
    "In this case, we're predicting a binary outcome, so we'll use a classifier.\n",
    "\n",
    "step 1: Instantiate the classifier\n",
    "\n",
    "step 2: Create training and testing sets\n",
    "\n",
    "step 3: Fit the training data to the classifier\n",
    "\n",
    "step 4: Make predictions\n",
    "\n",
    "step 5: Check accuracy on test set using AUC\n",
    "\n",
    "step 6: Check for overfitting \n",
    "\n",
    "### Step 1: Instantiate the classifier"
   ]
  },
  {
   "cell_type": "code",
   "execution_count": 101,
   "metadata": {
    "collapsed": false
   },
   "outputs": [],
   "source": [
    "from sklearn.tree import DecisionTreeClassifier\n",
    "\n",
    "# Instantiate the classifier\n",
    "clf = DecisionTreeClassifier(random_state=1)\n"
   ]
  },
  {
   "cell_type": "markdown",
   "metadata": {},
   "source": [
    "### Step 2: Train-Test Split"
   ]
  },
  {
   "cell_type": "code",
   "execution_count": 28,
   "metadata": {
    "collapsed": false
   },
   "outputs": [],
   "source": [
    "import numpy as np\n",
    "import math\n",
    "\n",
    "# Set a random seed so the shuffle is the same every time\n",
    "np.random.seed(1)\n",
    "\n",
    "# Shuffle the rows  \n",
    "# This permutes the index randomly using numpy.random.permutation\n",
    "# Then, it reindexes the dataframe with the result\n",
    "# The net effect is to put the rows into random order\n",
    "income = income.reindex(np.random.permutation(income.index))\n",
    "\n",
    "# 80% to train and 20% to test\n",
    "train_max_row = math.floor(income.shape[0] * .8)\n",
    "\n",
    "train = income.iloc[:train_max_row, :]\n",
    "test = income.iloc[train_max_row:, :]\n"
   ]
  },
  {
   "cell_type": "markdown",
   "metadata": {},
   "source": [
    "### Step 3: Fit the Model"
   ]
  },
  {
   "cell_type": "code",
   "execution_count": 30,
   "metadata": {
    "collapsed": false
   },
   "outputs": [
    {
     "data": {
      "text/plain": [
       "DecisionTreeClassifier(class_weight=None, criterion='gini', max_depth=None,\n",
       "            max_features=None, max_leaf_nodes=None,\n",
       "            min_impurity_split=1e-07, min_samples_leaf=1,\n",
       "            min_samples_split=2, min_weight_fraction_leaf=0.0,\n",
       "            presort=False, random_state=1, splitter='best')"
      ]
     },
     "execution_count": 30,
     "metadata": {},
     "output_type": "execute_result"
    }
   ],
   "source": [
    "# Fit the model\n",
    "\n",
    "clf.fit(train[features], train[target])"
   ]
  },
  {
   "cell_type": "markdown",
   "metadata": {},
   "source": [
    "### Step 4: Make predictions on the Test Set"
   ]
  },
  {
   "cell_type": "code",
   "execution_count": 33,
   "metadata": {
    "collapsed": false
   },
   "outputs": [
    {
     "data": {
      "text/plain": [
       "array([0, 0], dtype=int8)"
      ]
     },
     "execution_count": 33,
     "metadata": {},
     "output_type": "execute_result"
    }
   ],
   "source": [
    "# Making predictions\n",
    "predictions = clf.predict(test[features])\n",
    "predictions[:2]"
   ]
  },
  {
   "cell_type": "markdown",
   "metadata": {},
   "source": [
    "### Step 5: Check Accuracy on test set using AUC\n",
    "\n",
    "While there are many methods for evaluating error with classification, we'll use [AUC obtained from ROC curve](http://gim.unmc.edu/dxtests/roc3.htm). AUC ranges from 0 to 1, so it's ideal for binary classification. The higher the AUC, the more accurate our predictions. We can compute AUC with the roc_auc_score function from sklearn.metrics. This function takes in two parameters:\n",
    "\n",
    "y_true: true labels\n",
    "\n",
    "y_score: predicted labels\n"
   ]
  },
  {
   "cell_type": "code",
   "execution_count": 36,
   "metadata": {
    "collapsed": false
   },
   "outputs": [
    {
     "name": "stdout",
     "output_type": "stream",
     "text": [
      "0.693465632475\n"
     ]
    }
   ],
   "source": [
    "from sklearn.metrics import roc_auc_score\n",
    "\n",
    "test_auc = roc_auc_score(test[target], predictions)\n",
    "\n",
    "print(test_auc)"
   ]
  },
  {
   "cell_type": "markdown",
   "metadata": {},
   "source": [
    "### Step 6: Check for overfitting\n",
    "The AUC for the predictions on the testing set is about .694 which is not very good. Let's compare this against the AUC for predictions on the training set to see if the model is overfitting."
   ]
  },
  {
   "cell_type": "code",
   "execution_count": 37,
   "metadata": {
    "collapsed": false
   },
   "outputs": [
    {
     "name": "stdout",
     "output_type": "stream",
     "text": [
      "0.947124450144\n"
     ]
    }
   ],
   "source": [
    "train_predictions = clf.predict(train[columns])\n",
    "\n",
    "train_auc = roc_auc_score(train[target], train_predictions)\n",
    "\n",
    "print(train_auc)"
   ]
  },
  {
   "cell_type": "markdown",
   "metadata": {},
   "source": [
    "Our AUC on the training set was .947, and the AUC on the test set was .694. There's no hard and fast rule on when overfitting is occurring, but our model is predicting the training set much better than the test set. Splitting the data into training and testing sets helps us detect and fix it. Trees overfit when they have too much depth and make overly complex rules that match the training data, but aren't able to generalize well to new data. The deeper a tree is, the worse it typically performs on new data.\n",
    "\n",
    "\n"
   ]
  },
  {
   "cell_type": "markdown",
   "metadata": {},
   "source": [
    "## Optimize Overfitting With A Shallower Tree\n",
    "\n",
    "There are three main ways to combat overfitting:\n",
    "\n",
    "1. Restrict the depth of the tree while we're building it.\n",
    "2. \"Prune\" the tree after we build it to remove unnecessary leaves.\n",
    "3. Use ensembling to blend the predictions of many trees.\n",
    "\n",
    "In this project we will focus on the first method\n",
    "\n",
    "### Restrict the depth of the tree\n",
    "\n",
    "We can restrict tree depth by adding a few parameters when we initialize the DecisionTreeClassifier class:\n",
    "\n",
    "- max_depth - Globally restricts how deep the tree can go\n",
    "- min_samples_split - The minimum number of rows a node should have before it can be split; if this is set to 2, for example, then nodes with 2 rows won't be split, and will become leaves instead\n",
    "- min_samples_leaf - The minimum number of rows a leaf must have\n",
    "- min_weight_fraction_leaf - The fraction of input rows a leaf must have\n",
    "- max_leaf_nodes - The maximum number of total leaves; this will cap the count of leaf nodes as the tree is being built\n",
    "Some of these parameters aren't compatible, however. For example, we can't use max_depth and max_leaf_nodes together."
   ]
  },
  {
   "cell_type": "code",
   "execution_count": 98,
   "metadata": {
    "collapsed": false
   },
   "outputs": [],
   "source": [
    "def get_aucs(max_depth):\n",
    "    # Decision trees model with max_depth \n",
    "    clf = DecisionTreeClassifier(random_state=1, max_depth=max_depth)\n",
    "\n",
    "    clf.fit(train[columns], train[target])\n",
    "\n",
    "    # Test AUC\n",
    "    predictions = clf.predict(test[columns])\n",
    "    test_auc = roc_auc_score(test[target], predictions)\n",
    "\n",
    "    # Train AUC\n",
    "    predictions_train = clf.predict(train[columns])\n",
    "    train_auc = roc_auc_score(train[target], predictions_train)\n",
    "    \n",
    "    return test_auc, train_auc\n",
    "\n",
    "depth_values = np.arange(2, 40)\n",
    "auc_values = np.zeros((len(depth_values), 3))\n",
    "for i, val in enumerate(depth_values):\n",
    "    test_auc, train_auc = get_aucs(val)\n",
    "    auc_values[i, 0]  = val\n",
    "    auc_values[i, 1]  = test_auc\n",
    "    auc_values[i, 2]  = train_auc"
   ]
  },
  {
   "cell_type": "code",
   "execution_count": 100,
   "metadata": {
    "collapsed": false
   },
   "outputs": [
    {
     "data": {
      "image/png": "[encoded data removed]",
      "text/plain": [
       "<matplotlib.figure.Figure at 0x10b7b2eb8>"
      ]
     },
     "metadata": {},
     "output_type": "display_data"
    }
   ],
   "source": [
    "import matplotlib.pyplot as plt\n",
    "%matplotlib inline \n",
    "plt.style.use('ggplot')\n",
    "plt.rcParams.update({'font.size': 16})\n",
    "\n",
    "plt.figure(figsize=(8,4))\n",
    "plt.plot(auc_values[:,0], auc_values[:,1], label='Test AUC') \n",
    "plt.plot(auc_values[:,0], auc_values[:,2], color='b', label='Train AUC')\n",
    "plt.legend()\n",
    "plt.xlabel('Maximum Tree Depth')\n",
    "plt.ylabel('AUC')\n",
    "\n",
    "plt.show()"
   ]
  },
  {
   "cell_type": "markdown",
   "metadata": {},
   "source": [
    "For smaller values of tree depth (< 6), we have comparable values of AUC for both test and training, smaller the value the worse the accuracy. This is underfitting, suggesting that our model is not complex enough for the features. However for larger values the models does very well on the training set but not as well on the test set due to over-fitting. Around tree-depth of 10, we have optimal performance, largest value of AUC where the performance of test and training data are similar.  "
   ]
  },
  {
   "cell_type": "markdown",
   "metadata": {},
   "source": [
    "#### The Bias-Variance Tradeoff\n",
    "\n",
    "By artificially restricting the depth of our tree, we prevent it from creating a model that's complex enough to correctly categorize some of the rows. If we don't perform the artificial restrictions, however, the tree becomes too complex, fits quirks in the data that only exist in the training set, and doesn't generalize to new data.\n",
    "\n",
    "Imagine that we take a random sample of the training data and create many models.\n",
    "\n",
    "- High bias can cause underfitting -- if a model is consistently failing to predict the correct value, it may be that it's too simple to model the data faithfully.\n",
    "\n",
    "- High variance can cause overfitting. If a model varies its predictions significantly based on small changes in the input data, then it's likely fitting itself to quirks in the training data, rather than making a generalizable model.\n",
    "\n",
    "We call this the bias-variance tradeoff because decreasing one characteristic will usually increase the other. \n",
    "\n",
    "## Advantages and Disadvantages of using Decision Trees\n",
    "\n",
    "Let's go over the main advantages and disadvantages of using decision trees. The main advantages of using decision trees is that they're:\n",
    "\n",
    "- Easy to interpret\n",
    "- Relatively fast to fit and make predictions\n",
    "- Able to handle multiple types of data\n",
    "- Able to pick up nonlinearities in data, and usually fairly accurate\n",
    "\n",
    "The main disadvantage of using decision trees is their tendency to overfit.\n",
    "\n",
    "Decision trees are a good choice for tasks where it's important to be able to interpret and convey why the algorithm is doing what it's doing.\n",
    "\n",
    "The most powerful way to reduce decision tree overfitting is to create ensembles of trees. The random forest algorithm is a popular choice for doing this. In cases where prediction accuracy is the most important consideration, random forests usually perform better.\n",
    "\n"
   ]
  }
 ],
 "metadata": {
  "kernelspec": {
   "display_name": "Python 3",
   "language": "python",
   "name": "python3"
  },
  "language_info": {
   "codemirror_mode": {
    "name": "ipython",
    "version": 3
   },
   "file_extension": ".py",
   "mimetype": "text/x-python",
   "name": "python",
   "nbconvert_exporter": "python",
   "pygments_lexer": "ipython3",
   "version": "3.6.0"
  }
 },
 "nbformat": 4,
 "nbformat_minor": 2
}
