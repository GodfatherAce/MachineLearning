{
 "cells": [
  {
   "cell_type": "markdown",
   "metadata": {},
   "source": [
    "\n",
    "# Machine Learning on Iris Dataset Part 2: Unsupervised Machine Learning Using Python\n",
    "\n",
    "In my previous blogpost, I used supervised machine learning to classify the variety of IThe prediction is based on shape of an iris leaf represented by its sepal length, sepal width, petal length and petal width as shown in the image.\n",
    "\n",
    "![Iris](./iris.png)\n",
    "\n",
    "## Understanding and loading the data\n",
    "\n",
    "Since it is such a common data set it's  built in scikit learn as a module [find here.](http://scikit-learn.org/stable/modules/generated/sklearn.datasets.load_iris.html#sklearn.datasets.load_iris) \n",
    "This data is saved as Dictionary-like object, the interesting attributes are: **data**, the data to learn, **target**, the classification labels, **target_names**, the names of the labels, **feature_names**, the names of the features, and **DESCR**, the full description of the dataset.\n",
    "\n",
    "The data set consists of:\n",
    "* **150 samples** \n",
    "* **3 labels: species of Iris (_Iris setosa, Iris virginica_ and _Iris versicolor_)** \n",
    "* **4 features: length and the width of the sepals and petals**, in centimetres.\n",
    "\n",
    "Scikit learn only works if data is stored as numeric data, irrespective of it being a regression or a classeification problem. It also requires the arrays to be stored at numpy arrays for optimization. Since, this dataset is loaded from scikit learn, everything is appropriately formatted."
   ]
  },
  {
   "cell_type": "code",
   "execution_count": 1,
   "metadata": {
    "collapsed": false
   },
   "outputs": [],
   "source": [
    "# install relevant modules\n",
    "import numpy as np\n",
    "\n",
    "# scikit-learn\n",
    "from sklearn.neighbors import KNeighborsClassifier\n",
    "from sklearn.linear_model import LogisticRegression\n",
    "from sklearn.model_selection import train_test_split\n",
    "from sklearn import metrics\n",
    "\n",
    "# import load_iris function from datasets module\n",
    "from sklearn.datasets import load_iris\n",
    "\n",
    "# import Matplotlib (scientific plotting library)\n",
    "import matplotlib.pyplot as plt\n",
    "# allow plots to appear within the notebook\n",
    "%matplotlib inline\n",
    "import seaborn as sns"
   ]
  },
  {
   "cell_type": "code",
   "execution_count": 2,
   "metadata": {
    "collapsed": false
   },
   "outputs": [
    {
     "data": {
      "text/plain": [
       "sklearn.datasets.base.Bunch"
      ]
     },
     "execution_count": 2,
     "metadata": {},
     "output_type": "execute_result"
    }
   ],
   "source": [
    "# save \"bunch\" object containing iris dataset and its attributes into iris_df\n",
    "iris_df = load_iris()\n",
    "type(iris_df)"
   ]
  },
  {
   "cell_type": "code",
   "execution_count": 3,
   "metadata": {
    "collapsed": false
   },
   "outputs": [
    {
     "name": "stdout",
     "output_type": "stream",
     "text": [
      "['sepal length (cm)', 'sepal width (cm)', 'petal length (cm)', 'petal width (cm)']\n",
      "[[ 5.1  3.5  1.4  0.2]\n",
      " [ 4.9  3.   1.4  0.2]\n",
      " [ 4.7  3.2  1.3  0.2]]\n",
      "<class 'numpy.ndarray'>\n"
     ]
    }
   ],
   "source": [
    "# Look into the features \n",
    "print (iris_df.feature_names)\n",
    "print (iris_df.data[0:3, :])\n",
    "print(type(iris_df.data))"
   ]
  },
  {
   "cell_type": "code",
   "execution_count": 4,
   "metadata": {
    "collapsed": false
   },
   "outputs": [
    {
     "name": "stdout",
     "output_type": "stream",
     "text": [
      "['setosa' 'versicolor' 'virginica']\n",
      "[0 0 0]\n",
      "<class 'numpy.ndarray'>\n"
     ]
    }
   ],
   "source": [
    "# Look into the labels\n",
    "print (iris_df.target_names)\n",
    "print (iris_df.target[:3])\n",
    "print(type(iris_df.target))"
   ]
  },
  {
   "cell_type": "code",
   "execution_count": 10,
   "metadata": {
    "collapsed": false
   },
   "outputs": [
    {
     "name": "stdout",
     "output_type": "stream",
     "text": [
      "shape of X:  (150, 4) & shape of y:  (150,)\n"
     ]
    }
   ],
   "source": [
    "# store feature matrix in X and label vector in y\n",
    "X = iris_df.data\n",
    "y = iris_df.target\n",
    "# print and check shapes of X and y\n",
    "print(\"shape of X: \", X.shape, \"& shape of y: \", y.shape)"
   ]
  },
  {
   "cell_type": "markdown",
   "metadata": {
    "collapsed": true
   },
   "source": [
    "## Training a machine learning model with scikit-learn\n",
    "\n",
    "### K-nearest neighbors (KNN) classification\n",
    "\n",
    "This method searches for the K observations in the training data that are \"nearest\" to the measurements of the new observation. Then it uses the most popular response value from the K nearest neighbors as the predicted response value for the new observation. Following steps:\n",
    "\n",
    "- Provide a value of K\n",
    "- \"Instantiate\" (make an instance of) the \"estimator\" (scikit-learn's term for model)\n",
    "- Train the model with data (Model learns the relationship between X and y, Occurs in-place)\n",
    "- Predict the response for a new observation\n"
   ]
  },
  {
   "cell_type": "code",
   "execution_count": 11,
   "metadata": {
    "collapsed": false
   },
   "outputs": [
    {
     "data": {
      "text/plain": [
       "KNeighborsClassifier(algorithm='auto', leaf_size=30, metric='minkowski',\n",
       "           metric_params=None, n_jobs=1, n_neighbors=5, p=2,\n",
       "           weights='uniform')"
      ]
     },
     "execution_count": 11,
     "metadata": {},
     "output_type": "execute_result"
    }
   ],
   "source": [
    "# KNN classification \n",
    "# Instantiate the estimator \n",
    "knn1 = KNeighborsClassifier(n_neighbors=1)\n",
    "knn5 = KNeighborsClassifier(n_neighbors=5)\n",
    "\n",
    "# Train the model\n",
    "# output displays the default values\n",
    "knn1.fit(X, y)\n",
    "knn5.fit(X, y)"
   ]
  },
  {
   "cell_type": "code",
   "execution_count": 12,
   "metadata": {
    "collapsed": false
   },
   "outputs": [
    {
     "name": "stdout",
     "output_type": "stream",
     "text": [
      "n_neighbors=1 predicts:  [2 1]\n",
      "n_neighbors=5 predicts:  [1 1]\n"
     ]
    }
   ],
   "source": [
    "# Predict the response\n",
    "X_new = [[3, 4, 5, 2], [5, 2, 3, 2]]\n",
    "print(\"n_neighbors=1 predicts: \", knn1.predict(X_new))\n",
    "print(\"n_neighbors=5 predicts: \", knn5.predict(X_new))"
   ]
  },
  {
   "cell_type": "markdown",
   "metadata": {},
   "source": [
    "### Logistic Regression Classification\n",
    "Logistic regression is another very common way of classification. Logistic regression was developed by statistician David Cox in 1958. The binary logistic model is used to estimate the probability of a binary response based on one or more features. And for classifying more than two labels, it uses \"one versus the rest\" technique. In scikit-learn the implementation for all models are very similar, making it very easy for begineers.\n"
   ]
  },
  {
   "cell_type": "code",
   "execution_count": 13,
   "metadata": {
    "collapsed": false
   },
   "outputs": [
    {
     "data": {
      "text/plain": [
       "LogisticRegression(C=1.0, class_weight=None, dual=False, fit_intercept=True,\n",
       "          intercept_scaling=1, max_iter=100, multi_class='ovr', n_jobs=1,\n",
       "          penalty='l2', random_state=None, solver='liblinear', tol=0.0001,\n",
       "          verbose=0, warm_start=False)"
      ]
     },
     "execution_count": 13,
     "metadata": {},
     "output_type": "execute_result"
    }
   ],
   "source": [
    "# instantiate the model (using the default parameters)\n",
    "logreg = LogisticRegression()\n",
    "\n",
    "# fit the model with data\n",
    "# output displays the default values\n",
    "logreg.fit(X, y)"
   ]
  },
  {
   "cell_type": "code",
   "execution_count": 14,
   "metadata": {
    "collapsed": false
   },
   "outputs": [
    {
     "data": {
      "text/plain": [
       "array([2, 2])"
      ]
     },
     "execution_count": 14,
     "metadata": {},
     "output_type": "execute_result"
    }
   ],
   "source": [
    "# predict the response for new observations\n",
    "logreg.predict(X_new)"
   ]
  },
  {
   "cell_type": "markdown",
   "metadata": {},
   "source": [
    "## Evaluating the models\n",
    "One Common evaluation metric for classification accuracy in classification problems is proportion of correct predictions, _**accuracy_score**_, on a given set. We can get _accuracy_score_ for the training data or a new set of observations. \n",
    "\n",
    "\n",
    "### 1. Train and test on the entire dataset\n",
    "\n",
    "Training and testing on the same data is not recommended as our goal is to estimate likely performance of a model on out-of-sample data. But, maximizing training accuracy rewards overly complex models that won't necessarily generalize and result in overfitting the training data.\n"
   ]
  },
  {
   "cell_type": "code",
   "execution_count": 15,
   "metadata": {
    "collapsed": false
   },
   "outputs": [
    {
     "name": "stdout",
     "output_type": "stream",
     "text": [
      "Accuracy of KNN with n_neighbors=1:  1.0\n",
      "Accuracy of KNN with n_neighbors=5:  0.966666666667\n",
      "Accuracy of logistic regression:  0.96\n"
     ]
    }
   ],
   "source": [
    "# store the predicted response values\n",
    "y_pred_knn1 = knn1.predict(X)\n",
    "y_pred_knn5 = knn5.predict(X)\n",
    "y_pred_logreg = logreg.predict(X)\n",
    "\n",
    "# compute classification accuracy for the logistic regression model\n",
    "print(\"Accuracy of KNN with n_neighbors=1: \", metrics.accuracy_score(y, y_pred_knn1))\n",
    "print(\"Accuracy of KNN with n_neighbors=5: \", metrics.accuracy_score(y, y_pred_knn5))\n",
    "print(\"Accuracy of logistic regression: \", metrics.accuracy_score(y, y_pred_logreg))"
   ]
  },
  {
   "cell_type": "markdown",
   "metadata": {},
   "source": [
    "### 2. Train / test Split Method\n",
    "\n",
    "It is one of the most common way to test the accuracy of a model. Its fairly intuitive to understand, split the dataset into a training set and a testing set in any proportion.\n",
    "Train the model on the training set. Test the model on the testing set.\n",
    "\n",
    "Note tha I use **random_state=some_number**, to guarantee that my split is always identica;s. This is useful to get reproducible results, and compare across models. \n"
   ]
  },
  {
   "cell_type": "code",
   "execution_count": 16,
   "metadata": {
    "collapsed": false
   },
   "outputs": [
    {
     "name": "stdout",
     "output_type": "stream",
     "text": [
      "shape of X_train:  (90, 4) & shape of y_train:  (90,)\n",
      "shape of X_test:  (60, 4) & shape of y_test:  (60,)\n"
     ]
    }
   ],
   "source": [
    "# Splitting the data in 75% training data and 25% testing set\n",
    "X_train, X_test, y_train, y_test = train_test_split(X, y, test_size=0.4, random_state=4)\n",
    "print(\"shape of X_train: \", X_train.shape, \"& shape of y_train: \", y_train.shape)\n",
    "print(\"shape of X_test: \", X_test.shape, \"& shape of y_test: \", y_test.shape)"
   ]
  },
  {
   "cell_type": "code",
   "execution_count": 17,
   "metadata": {
    "collapsed": false
   },
   "outputs": [
    {
     "name": "stdout",
     "output_type": "stream",
     "text": [
      "\n",
      "\n",
      "Accuracy of KNN with n_neighbors=1:  0.95\n",
      "Accuracy of KNN with n_neighbors=5:  0.983333333333\n",
      "Accuracy of logistic regression:  0.95\n"
     ]
    }
   ],
   "source": [
    "# Instantiate the estimators \n",
    "knn1 = KNeighborsClassifier(n_neighbors=1)\n",
    "knn5 = KNeighborsClassifier(n_neighbors=5)\n",
    "logreg = LogisticRegression()\n",
    "\n",
    "# Train the models\n",
    "# output displays the default values\n",
    "logreg.fit(X_train, y_train)\n",
    "knn1.fit(X_train, y_train)\n",
    "knn5.fit(X_test, y_test)\n",
    "print('\\n')\n",
    "\n",
    "# Predictions\n",
    "y_pred_knn1 = knn1.predict(X_test)\n",
    "y_pred_knn5 = knn5.predict(X_test)\n",
    "y_pred_logreg = logreg.predict(X_test)\n",
    "\n",
    "# compute classification accuracy for the logistic regression model\n",
    "print(\"Accuracy of KNN with n_neighbors=1: \", metrics.accuracy_score(y_test, y_pred_knn1))\n",
    "print(\"Accuracy of KNN with n_neighbors=5: \", metrics.accuracy_score(y_test, y_pred_knn5))\n",
    "print(\"Accuracy of logistic regression: \", metrics.accuracy_score(y_test, y_pred_logreg))"
   ]
  },
  {
   "cell_type": "markdown",
   "metadata": {},
   "source": [
    "### 3. Best estimate of K for KNN-classification"
   ]
  },
  {
   "cell_type": "code",
   "execution_count": 18,
   "metadata": {
    "collapsed": false
   },
   "outputs": [],
   "source": [
    "# try K=1 through K=25 and record testing accuracy\n",
    "k_range = list(range(1, 26, 2))\n",
    "scores = []\n",
    "for k in k_range:\n",
    "    knn = KNeighborsClassifier(n_neighbors=k)\n",
    "    knn.fit(X_train, y_train)\n",
    "    y_pred = knn.predict(X_test)\n",
    "    scores.append(metrics.accuracy_score(y_test, y_pred))"
   ]
  },
  {
   "cell_type": "code",
   "execution_count": 19,
   "metadata": {
    "collapsed": false
   },
   "outputs": [
    {
     "data": {
      "text/plain": [
       "<matplotlib.text.Text at 0x114576160>"
      ]
     },
     "execution_count": 19,
     "metadata": {},
     "output_type": "execute_result"
    },
    {
     "data": {
      "image/png": "[encoded data removed]",
      "text/plain": [
       "<matplotlib.figure.Figure at 0x11434d198>"
      ]
     },
     "metadata": {},
     "output_type": "display_data"
    }
   ],
   "source": [
    "# plot the relationship between K and testing accuracy\n",
    "plt.rcParams.update({'font.size': 18})\n",
    "plt.plot(k_range, scores, 'ro', linewidth=2.0, linestyle=\"-\")\n",
    "plt.xlabel('K')\n",
    "plt.ylabel('Accuracy')"
   ]
  }
 ],
 "metadata": {
  "kernelspec": {
   "display_name": "Python 3",
   "language": "python",
   "name": "python3"
  },
  "language_info": {
   "codemirror_mode": {
    "name": "ipython",
    "version": 3
   },
   "file_extension": ".py",
   "mimetype": "text/x-python",
   "name": "python",
   "nbconvert_exporter": "python",
   "pygments_lexer": "ipython3",
   "version": "3.6.0"
  }
 },
 "nbformat": 4,
 "nbformat_minor": 2
}
