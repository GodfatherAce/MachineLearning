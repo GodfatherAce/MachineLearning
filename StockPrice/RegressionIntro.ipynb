{
 "cells": [
  {
   "cell_type": "markdown",
   "metadata": {},
   "source": [
    "## Let's Talk Linear Regression \n"
   ]
  },
  {
   "cell_type": "markdown",
   "metadata": {},
   "source": [
    "## Loading and Understanding Data"
   ]
  },
  {
   "cell_type": "code",
   "execution_count": 14,
   "metadata": {
    "collapsed": false
   },
   "outputs": [],
   "source": [
    "# import relevant modules\n",
    "import pandas as pd\n",
    "import numpy as np\n",
    "import quandl, math\n",
    "\n",
    "# Machine Learning\n",
    "from sklearn import preprocessing, cross_validation, svm\n",
    "from sklearn.linear_model import LinearRegression\n",
    "\n",
    "#Visualization\n",
    "import matplotlib\n",
    "%matplotlib inline\n",
    "matplotlib.style.use('ggplot')"
   ]
  },
  {
   "cell_type": "code",
   "execution_count": 15,
   "metadata": {
    "collapsed": false
   },
   "outputs": [],
   "source": [
    "# Get unique quandl key by creating a free account with quandl \n",
    "# And directly load financial data from GOOGL\n",
    "\n",
    "quandl.ApiConfig.api_key = 'q-UWpMLYsWKFejy5y-4a'\n",
    "df = quandl.get('WIKI/GOOGL')"
   ]
  },
  {
   "cell_type": "code",
   "execution_count": 17,
   "metadata": {
    "collapsed": false
   },
   "outputs": [
    {
     "name": "stdout",
     "output_type": "stream",
     "text": [
      "Index(['Open', 'High', 'Low', 'Close', 'Volume', 'Ex-Dividend', 'Split Ratio',\n",
      "       'Adj. Open', 'Adj. High', 'Adj. Low', 'Adj. Close', 'Adj. Volume'],\n",
      "      dtype='object')\n",
      "              Open    High     Low    Close      Volume  Ex-Dividend  \\\n",
      "Date                                                                   \n",
      "2004-08-19  100.01  104.06   95.96  100.335  44659000.0          0.0   \n",
      "2004-08-20  101.01  109.08  100.50  108.310  22834300.0          0.0   \n",
      "\n",
      "            Split Ratio  Adj. Open  Adj. High   Adj. Low  Adj. Close  \\\n",
      "Date                                                                   \n",
      "2004-08-19          1.0  50.159839  52.191109  48.128568   50.322842   \n",
      "2004-08-20          1.0  50.661387  54.708881  50.405597   54.322689   \n",
      "\n",
      "            Adj. Volume  \n",
      "Date                     \n",
      "2004-08-19   44659000.0  \n",
      "2004-08-20   22834300.0  \n"
     ]
    }
   ],
   "source": [
    "# Getting a peek into data\n",
    "print(df.columns)\n",
    "print(df.head(2))"
   ]
  },
  {
   "cell_type": "markdown",
   "metadata": {},
   "source": [
    "As you would notice the data has very strongly dependent features such as 'Open' and 'Adj. Open'. Let's deal with only adjusted data as they are largely self contained before we even get into feature engineering. We can also discard any other column that are irrelevant for or prediction."
   ]
  },
  {
   "cell_type": "code",
   "execution_count": 18,
   "metadata": {
    "collapsed": false
   },
   "outputs": [
    {
     "name": "stdout",
     "output_type": "stream",
     "text": [
      "            Adj. Open  Adj. High   Adj. Low  Adj. Close  Adj. Volume\n",
      "Date                                                                \n",
      "2004-08-19  50.159839  52.191109  48.128568   50.322842   44659000.0\n",
      "2004-08-20  50.661387  54.708881  50.405597   54.322689   22834300.0\n"
     ]
    }
   ],
   "source": [
    "# Discarding features that aren't useful\n",
    "df = df[['Adj. Open','Adj. High', 'Adj. Low', 'Adj. Close', 'Adj. Volume']]\n",
    "print(df.head(2))"
   ]
  },
  {
   "cell_type": "markdown",
   "metadata": {},
   "source": [
    "## Feature Engineering\n",
    "We can refine our features even further based on our general understanding of financial data.\n",
    "For instance, instead of dealing with High and Low separately, we could create volatility percentage as a new feature.\n",
    "$$HL\\_PCT = \\frac{high - low}{low*100}$$\n",
    "Similarly, \n",
    "$$PCT\\_CHNG = \\frac{close - open}{open*100}$$"
   ]
  },
  {
   "cell_type": "code",
   "execution_count": 19,
   "metadata": {
    "collapsed": false
   },
   "outputs": [
    {
     "name": "stdout",
     "output_type": "stream",
     "text": [
      "            Adj. Close    HL_PCT  PCT_CHNG  Adj. Volume\n",
      "Date                                                   \n",
      "2004-08-19   50.322842  0.000844  0.000032   44659000.0\n",
      "2004-08-20   54.322689  0.000854  0.000723   22834300.0\n",
      "2004-08-23   54.869377  0.000406 -0.000123   18256100.0\n"
     ]
    }
   ],
   "source": [
    "# define a new feature, HL_PCT\n",
    "df['HL_PCT'] = (df['Adj. High'] - df['Adj. Low'])/(df['Adj. Low']*100)\n",
    "\n",
    "# define a new feature percentage change\n",
    "df['PCT_CHNG'] = (df['Adj. Close'] - df['Adj. Open'])/(df['Adj. Open']*100)\n",
    "\n",
    "df = df[['Adj. Close', 'HL_PCT', 'PCT_CHNG', 'Adj. Volume']]\n",
    "\n",
    "print(df.head(3))"
   ]
  },
  {
   "cell_type": "code",
   "execution_count": 20,
   "metadata": {
    "collapsed": false
   },
   "outputs": [],
   "source": [
    "# Check which columns have missing data\n",
    "for column in df.columns:\n",
    "    if np.any(pd.isnull(df[column])) == True:\n",
    "        print(column)"
   ]
  },
  {
   "cell_type": "markdown",
   "metadata": {},
   "source": [
    "It seems like we don't have any missing or NaN data, in case we had that we need to replace them with something to be able to run our machine learning algorithm.\n",
    "\n",
    "One common way to do so is as follows:  \n",
    "``` python \n",
    "df.fillna(-99999, inplace = True) \n",
    "```"
   ]
  },
  {
   "cell_type": "code",
   "execution_count": 21,
   "metadata": {
    "collapsed": true
   },
   "outputs": [],
   "source": [
    "# pick a forecast column\n",
    "forecast_col = 'Adj. Close'"
   ]
  },
  {
   "cell_type": "code",
   "execution_count": 22,
   "metadata": {
    "collapsed": false
   },
   "outputs": [
    {
     "data": {
      "text/plain": [
       "<matplotlib.axes._subplots.AxesSubplot at 0x11788aef0>"
      ]
     },
     "execution_count": 22,
     "metadata": {},
     "output_type": "execute_result"
    },
    {
     "data": {
      "image/png": "[encoded data removed]",
      "text/plain": [
       "<matplotlib.figure.Figure at 0x11788a320>"
      ]
     },
     "metadata": {},
     "output_type": "display_data"
    }
   ],
   "source": [
    "# Plot features\n",
    "\n",
    "df.plot( x = 'HL_PCT', y = 'PCT_CHNG', style = 'o')"
   ]
  },
  {
   "cell_type": "markdown",
   "metadata": {},
   "source": [
    "## Machine Learning\n",
    "\n",
    "### Creating Features and Label"
   ]
  },
  {
   "cell_type": "code",
   "execution_count": 23,
   "metadata": {
    "collapsed": false
   },
   "outputs": [
    {
     "name": "stdout",
     "output_type": "stream",
     "text": [
      "length =  3173\n"
     ]
    }
   ],
   "source": [
    "# Chosing 1% of total days as forecast, so length of forecast data is 0.01*length\n",
    "print('length = ',len(df))\n",
    "forecast_out = math.ceil(0.01*len(df))"
   ]
  },
  {
   "cell_type": "code",
   "execution_count": 24,
   "metadata": {
    "collapsed": false
   },
   "outputs": [
    {
     "name": "stdout",
     "output_type": "stream",
     "text": [
      "            Adj. Close    HL_PCT  PCT_CHNG  Adj. Volume      label\n",
      "Date                                                              \n",
      "2004-08-19   50.322842  0.000844  0.000032   44659000.0  69.399229\n",
      "2004-08-20   54.322689  0.000854  0.000723   22834300.0  68.752232\n"
     ]
    }
   ],
   "source": [
    "# Creating label and shifting data as per 'forecast_out'\n",
    "df['label'] = df[forecast_col].shift(-forecast_out)\n",
    "print(df.head(2))"
   ]
  },
  {
   "cell_type": "code",
   "execution_count": 25,
   "metadata": {
    "collapsed": false
   },
   "outputs": [
    {
     "name": "stdout",
     "output_type": "stream",
     "text": [
      "            Adj. Close    HL_PCT  PCT_CHNG  Adj. Volume  label\n",
      "Date                                                          \n",
      "2017-03-24      835.14  0.000180 -0.000081    2080936.0    NaN\n",
      "2017-03-27      838.51  0.000207  0.000126    1922073.0    NaN\n",
      "\n",
      "\n",
      "            Adj. Close    HL_PCT  PCT_CHNG  Adj. Volume   label\n",
      "Date                                                           \n",
      "2017-02-07      829.23  0.000105  0.000045    1666605.0  835.14\n",
      "2017-02-08      829.88  0.000111 -0.000008    1302225.0  838.51\n"
     ]
    }
   ],
   "source": [
    "# If we look at the tail, it consists of forecast_out rows with NAN in Label column \n",
    "print(df.tail(2))\n",
    "print('\\n')\n",
    "# We can simply drop those rows\n",
    "df.dropna(inplace=True)\n",
    "print(df.tail(2))\n"
   ]
  },
  {
   "cell_type": "code",
   "execution_count": 26,
   "metadata": {
    "collapsed": false
   },
   "outputs": [
    {
     "name": "stdout",
     "output_type": "stream",
     "text": [
      "X[1,:] =  [  5.43226889e+01   8.53731343e-04   7.22700723e-04   2.28343000e+07]\n",
      "y[1] =  68.7522315524\n",
      "length of X and y:  3141 3141\n"
     ]
    }
   ],
   "source": [
    "# Define features (X) and Label (y)\n",
    "# For X drop label and index\n",
    "X = np.array(df.drop(['label'], 1))\n",
    "y = np.array(df['label'])\n",
    "print('X[1,:] = ', X[1,:])\n",
    "print('y[1] = ',y[1])\n",
    "print('length of X and y: ', len(X), len(y))"
   ]
  },
  {
   "cell_type": "markdown",
   "metadata": {},
   "source": [
    "### Scaling the features"
   ]
  },
  {
   "cell_type": "code",
   "execution_count": 27,
   "metadata": {
    "collapsed": false
   },
   "outputs": [
    {
     "name": "stdout",
     "output_type": "stream",
     "text": [
      "[-1.53267343  4.28431268  4.71482083  1.72383078]\n"
     ]
    }
   ],
   "source": [
    "# Use skalearn, preposessing to scale features\n",
    "X = preprocessing.scale(X)\n",
    "print(X[1,:])"
   ]
  },
  {
   "cell_type": "markdown",
   "metadata": {},
   "source": [
    "### Creating Training and Test Sets\n",
    "\n",
    "Using cross validation basically shuffles the data and according to our test_size criteria, splits the data into test and training data."
   ]
  },
  {
   "cell_type": "code",
   "execution_count": 28,
   "metadata": {
    "collapsed": false
   },
   "outputs": [
    {
     "name": "stdout",
     "output_type": "stream",
     "text": [
      "length of X_train and x_test:  2512 629\n"
     ]
    }
   ],
   "source": [
    "# Cross validation (split into test and train data)\n",
    "# test_size = 0.2 ==> 20% data is test data\n",
    "X_train, X_test, y_train, y_test = cross_validation.train_test_split(X, y, test_size = 0.2)\n",
    "\n",
    "print('length of X_train and x_test: ', len(X_train), len(X_test))"
   ]
  },
  {
   "cell_type": "markdown",
   "metadata": {},
   "source": [
    "### Using Linear Regression\n",
    "Now time to use linear regression. I first Split the data into 80% of training data and 20% of test data. Used Linear regression to train and test data. Finally, I tested the accuracy of our model on the test data."
   ]
  },
  {
   "cell_type": "code",
   "execution_count": 29,
   "metadata": {
    "collapsed": false
   },
   "outputs": [
    {
     "name": "stdout",
     "output_type": "stream",
     "text": [
      "Accuracy of Linear Regression:  0.97056490127\n"
     ]
    }
   ],
   "source": [
    "# Train\n",
    "clf = LinearRegression()\n",
    "clf.fit(X_train,y_train)\n",
    "# Test\n",
    "accuracy = clf.score(X_test, y_test)\n",
    "print(\"Accuracy of Linear Regression: \", accuracy)"
   ]
  },
  {
   "cell_type": "markdown",
   "metadata": {},
   "source": [
    "### Using SVM Regression\n",
    "\n",
    "It seems like Linear regression did fairly well on the test data set. I also wanted to check another regression algorithm (support vector regression) just out of curiosity. This doesn't do as well as the linear regression, but is a lot more versatile and would be useful in other more complex cases."
   ]
  },
  {
   "cell_type": "code",
   "execution_count": 30,
   "metadata": {
    "collapsed": false
   },
   "outputs": [
    {
     "name": "stdout",
     "output_type": "stream",
     "text": [
      "Accuracy of SVM:  0.81455446426\n"
     ]
    }
   ],
   "source": [
    "# Train\n",
    "clf2 = svm.SVR()\n",
    "clf2.fit(X_train,y_train)\n",
    "# Test\n",
    "accuracy = clf2.score(X_test, y_test)\n",
    "print(\"Accuracy of SVM: \", accuracy)"
   ]
  }
 ],
 "metadata": {
  "kernelspec": {
   "display_name": "Python 3",
   "language": "python",
   "name": "python3"
  },
  "language_info": {
   "codemirror_mode": {
    "name": "ipython",
    "version": 3
   },
   "file_extension": ".py",
   "mimetype": "text/x-python",
   "name": "python",
   "nbconvert_exporter": "python",
   "pygments_lexer": "ipython3",
   "version": "3.6.0"
  }
 },
 "nbformat": 4,
 "nbformat_minor": 2
}
